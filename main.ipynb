{
  "cells": [
    {
      "cell_type": "code",
      "execution_count": null,
      "id": "e5e62a83-e11c-4fac-a176-8a2fd2596c90",
      "metadata": {
        "id": "e5e62a83-e11c-4fac-a176-8a2fd2596c90"
      },
      "outputs": [],
      "source": [
        "import numpy as np\n",
        "import matplotlib.pyplot as plt\n",
        "from ipywidgets import interact, FloatSlider"
      ]
    },
    {
      "cell_type": "code",
      "execution_count": null,
      "id": "f9e4bef9-989f-49f8-bed0-feb5fdbcf1ee",
      "metadata": {
        "id": "f9e4bef9-989f-49f8-bed0-feb5fdbcf1ee"
      },
      "outputs": [],
      "source": [
        "def setup_plot():\n",
        "    plt.figure(figsize=(10, 6))\n",
        "    plt.title(\"Thermodynamics P-V Activity & Work Done\", fontsize=14)\n",
        "    plt.xlabel(\"Volume (m³)\", fontsize=12)\n",
        "    plt.ylabel(\"Pressure (kPa)\", fontsize=12)\n",
        "    plt.grid(True, linestyle='-', alpha=0.7)"
      ]
    },
    {
      "cell_type": "code",
      "execution_count": null,
      "id": "b0d215d4-8376-4435-a932-533f01a1202a",
      "metadata": {
        "id": "b0d215d4-8376-4435-a932-533f01a1202a"
      },
      "outputs": [],
      "source": [
        "def isothermal(V, T):\n",
        "    return (8.314 * T) / V  # Assumption: n=1 mole"
      ]
    },
    {
      "cell_type": "code",
      "execution_count": null,
      "id": "971c2b6d-9ce1-4480-8a7c-48dee4b0285b",
      "metadata": {
        "id": "971c2b6d-9ce1-4480-8a7c-48dee4b0285b"
      },
      "outputs": [],
      "source": [
        "def adiabatic(V, T):\n",
        "    gamma = 1.4  # Adiabatic index for Air\n",
        "    constant = 8.314 * T * V[0]**(gamma - 1)\n",
        "    return constant / (V**gamma)"
      ]
    },
    {
      "cell_type": "code",
      "execution_count": null,
      "id": "970cb0c5-5cb1-433f-b9d4-8ae8b0eaba90",
      "metadata": {
        "id": "970cb0c5-5cb1-433f-b9d4-8ae8b0eaba90"
      },
      "outputs": [],
      "source": [
        "def isobaric(V, P_ext):\n",
        "    return np.full_like(V, P_ext)"
      ]
    },
    {
      "cell_type": "code",
      "source": [
        "def calculate_work(V, P_curve, process_type, T=None, P_ext=None):\n",
        "    dV = np.diff(V)\n",
        "    avg_P = (P_curve[:-1] + P_curve[1:]) / 2\n",
        "    work = np.sum(avg_P * dV) * 1000  # kPa·m³ → Joules\n",
        "\n",
        "    if process_type == \"adiabatic\":\n",
        "        gamma = 1.4\n",
        "        P1 = P_curve[0] * 1000  # kPa → Pa\n",
        "        P2 = P_curve[-1] * 1000\n",
        "        V1, V2 = V[0], V[-1]\n",
        "        work = (P1*V1 - P2*V2) / (gamma - 1)\n",
        "\n",
        "    return work"
      ],
      "metadata": {
        "id": "scBzChuwc9u3"
      },
      "id": "scBzChuwc9u3",
      "execution_count": null,
      "outputs": []
    },
    {
      "cell_type": "code",
      "execution_count": null,
      "id": "d23544a1-ec8f-4f59-a556-17207c0c5dcb",
      "metadata": {
        "id": "d23544a1-ec8f-4f59-a556-17207c0c5dcb"
      },
      "outputs": [],
      "source": [
        "def plot_processes(V, P_isothermal, P_adiabatic, P_isobaric, T, P_ext):\n",
        "    plt.clf()\n",
        "\n",
        "    plt.figure(figsize=(10, 6))\n",
        "    plt.title(\"Thermodynamics P-V Activity & Work Done\", fontsize=14)\n",
        "    plt.xlabel(\"Volume (m³)\", fontsize=12)\n",
        "    plt.ylabel(\"Pressure (kPa)\", fontsize=12)\n",
        "    plt.grid(True, linestyle='-', alpha=0.7)\n",
        "\n",
        "    plt.plot(V, P_isothermal, 'b', lw=1, label=f\"Isothermal (T={T} K)\")\n",
        "    plt.plot(V, P_adiabatic, 'r', lw=1, label=\"Adiabatic (Q=0)\")\n",
        "    plt.plot(V, P_isobaric, 'g--', lw=1, label=f\"Isobaric (P={P_ext} kPa)\")\n",
        "\n",
        "    W_iso = calculate_work(V, P_isothermal, \"isothermal\")\n",
        "    W_adia = calculate_work(V, P_adiabatic, \"adiabatic\")\n",
        "    W_isobar = calculate_work(V, P_isobaric, \"isobaric\")\n",
        "\n",
        "\n",
        "    mid_V = (V[0] + V[-1])/2\n",
        "    plt.text(mid_V, P_isothermal[len(V)//2],\n",
        "             f\"{W_iso/1000:.1f} kJ\", ha='center', color='blue', fontweight='bold')\n",
        "    plt.text(mid_V, P_adiabatic[len(V)//2],\n",
        "             f\"{W_adia/1000:.1f} kJ\", ha='center', color='red', fontweight='bold')\n",
        "    plt.text(mid_V, P_isobaric[len(V)//2],\n",
        "             f\"{W_isobar/1000:.1f} kJ\", ha='center', color='green', fontweight='bold')\n",
        "\n",
        "    plt.legend(loc='upper right')\n",
        "    plt.ylim(0, max(P_isothermal)*1.2)\n",
        "    plt.show()"
      ]
    },
    {
      "cell_type": "code",
      "execution_count": null,
      "id": "0802cebd-2174-4cda-909c-5c13d9d51028",
      "metadata": {
        "id": "0802cebd-2174-4cda-909c-5c13d9d51028"
      },
      "outputs": [],
      "source": [
        "def plot_process(T=300, P_ext=100):\n",
        "    V = np.linspace(1, 10, 100)  # Volume Range\n",
        "\n",
        "    P_isothermal = isothermal(V, T)\n",
        "    P_adiabatic = adiabatic(V, T)\n",
        "    P_isobaric = isobaric(V, P_ext)\n",
        "\n",
        "    plot_processes(V, P_isothermal, P_adiabatic, P_isobaric, T, P_ext)"
      ]
    },
    {
      "cell_type": "code",
      "execution_count": null,
      "id": "a2e3a3f3-13b0-4c7d-8f4f-d15bc85e5b21",
      "metadata": {
        "colab": {
          "base_uri": "https://localhost:8080/",
          "height": 737,
          "referenced_widgets": [
            "d1240f544c234ea9866708716838fca1",
            "adf1ddd144d2429c965b9de56ee890a1",
            "cf80e94df3b74160bdcbb75e3d75edef",
            "a05cf4ba736147b2a6244aa0b47bee59",
            "151a1ef5ea0949b58b8e8817f4c01ab7",
            "6aa0d635846547faa6d33546f582e726",
            "6976403866f24e6f86c3c2274773996f",
            "e340ff2864b04a16918ab05c71aea404",
            "42ffb3fbf02049dc830a2974509b0f3d",
            "e52e5b67e8044cd0835e8660a09bbf64"
          ]
        },
        "id": "a2e3a3f3-13b0-4c7d-8f4f-d15bc85e5b21",
        "outputId": "20b68b8f-eac6-4742-ba83-703c10865006"
      },
      "outputs": [
        {
          "output_type": "display_data",
          "data": {
            "text/plain": [
              "interactive(children=(FloatSlider(value=300.0, description='Temperature (K)', max=500.0, min=200.0), FloatSlid…"
            ],
            "application/vnd.jupyter.widget-view+json": {
              "version_major": 2,
              "version_minor": 0,
              "model_id": "d1240f544c234ea9866708716838fca1"
            }
          },
          "metadata": {}
        },
        {
          "output_type": "execute_result",
          "data": {
            "text/plain": [
              "<function __main__.plot_process(T=300, P_ext=100)>"
            ],
            "text/html": [
              "<div style=\"max-width:800px; border: 1px solid var(--colab-border-color);\"><style>\n",
              "      pre.function-repr-contents {\n",
              "        overflow-x: auto;\n",
              "        padding: 8px 12px;\n",
              "        max-height: 500px;\n",
              "      }\n",
              "\n",
              "      pre.function-repr-contents.function-repr-contents-collapsed {\n",
              "        cursor: pointer;\n",
              "        max-height: 100px;\n",
              "      }\n",
              "    </style>\n",
              "    <pre style=\"white-space: initial; background:\n",
              "         var(--colab-secondary-surface-color); padding: 8px 12px;\n",
              "         border-bottom: 1px solid var(--colab-border-color);\"><b>plot_process</b><br/>def plot_process(T=300, P_ext=100)</pre><pre class=\"function-repr-contents function-repr-contents-collapsed\" style=\"\"><a class=\"filepath\" style=\"display:none\" href=\"#\">/content/&lt;ipython-input-9-4cd2e338ec1c&gt;</a>&lt;no docstring&gt;</pre></div>"
            ]
          },
          "metadata": {},
          "execution_count": 10
        }
      ],
      "source": [
        "%matplotlib inline\n",
        "\n",
        "interact(\n",
        "    plot_process,\n",
        "    T=FloatSlider(min=200, max=500, step=0.1, value=300, description=\"Temperature (K)\"),\n",
        "    P_ext=FloatSlider(min=50, max=200, step=0.1, value=100, description=\"Pressure (kPa)\")\n",
        ")"
      ]
    }
  ],
  "metadata": {
    "kernelspec": {
      "display_name": "Python 3 (ipykernel)",
      "language": "python",
      "name": "python3"
    },
    "language_info": {
      "codemirror_mode": {
        "name": "ipython",
        "version": 3
      },
      "file_extension": ".py",
      "mimetype": "text/x-python",
      "name": "python",
      "nbconvert_exporter": "python",
      "pygments_lexer": "ipython3",
      "version": "3.10.12"
    },
    "colab": {
      "provenance": []
    },
    "widgets": {
      "application/vnd.jupyter.widget-state+json": {
        "d1240f544c234ea9866708716838fca1": {
          "model_module": "@jupyter-widgets/controls",
          "model_name": "VBoxModel",
          "model_module_version": "1.5.0",
          "state": {
            "_dom_classes": [
              "widget-interact"
            ],
            "_model_module": "@jupyter-widgets/controls",
            "_model_module_version": "1.5.0",
            "_model_name": "VBoxModel",
            "_view_count": null,
            "_view_module": "@jupyter-widgets/controls",
            "_view_module_version": "1.5.0",
            "_view_name": "VBoxView",
            "box_style": "",
            "children": [
              "IPY_MODEL_adf1ddd144d2429c965b9de56ee890a1",
              "IPY_MODEL_cf80e94df3b74160bdcbb75e3d75edef",
              "IPY_MODEL_a05cf4ba736147b2a6244aa0b47bee59"
            ],
            "layout": "IPY_MODEL_151a1ef5ea0949b58b8e8817f4c01ab7"
          }
        },
        "adf1ddd144d2429c965b9de56ee890a1": {
          "model_module": "@jupyter-widgets/controls",
          "model_name": "FloatSliderModel",
          "model_module_version": "1.5.0",
          "state": {
            "_dom_classes": [],
            "_model_module": "@jupyter-widgets/controls",
            "_model_module_version": "1.5.0",
            "_model_name": "FloatSliderModel",
            "_view_count": null,
            "_view_module": "@jupyter-widgets/controls",
            "_view_module_version": "1.5.0",
            "_view_name": "FloatSliderView",
            "continuous_update": true,
            "description": "Temperature (K)",
            "description_tooltip": null,
            "disabled": false,
            "layout": "IPY_MODEL_6aa0d635846547faa6d33546f582e726",
            "max": 500,
            "min": 200,
            "orientation": "horizontal",
            "readout": true,
            "readout_format": ".2f",
            "step": 0.1,
            "style": "IPY_MODEL_6976403866f24e6f86c3c2274773996f",
            "value": 388.8
          }
        },
        "cf80e94df3b74160bdcbb75e3d75edef": {
          "model_module": "@jupyter-widgets/controls",
          "model_name": "FloatSliderModel",
          "model_module_version": "1.5.0",
          "state": {
            "_dom_classes": [],
            "_model_module": "@jupyter-widgets/controls",
            "_model_module_version": "1.5.0",
            "_model_name": "FloatSliderModel",
            "_view_count": null,
            "_view_module": "@jupyter-widgets/controls",
            "_view_module_version": "1.5.0",
            "_view_name": "FloatSliderView",
            "continuous_update": true,
            "description": "Pressure (kPa)",
            "description_tooltip": null,
            "disabled": false,
            "layout": "IPY_MODEL_e340ff2864b04a16918ab05c71aea404",
            "max": 200,
            "min": 50,
            "orientation": "horizontal",
            "readout": true,
            "readout_format": ".2f",
            "step": 0.1,
            "style": "IPY_MODEL_42ffb3fbf02049dc830a2974509b0f3d",
            "value": 58.7
          }
        },
        "a05cf4ba736147b2a6244aa0b47bee59": {
          "model_module": "@jupyter-widgets/output",
          "model_name": "OutputModel",
          "model_module_version": "1.0.0",
          "state": {
            "_dom_classes": [],
            "_model_module": "@jupyter-widgets/output",
            "_model_module_version": "1.0.0",
            "_model_name": "OutputModel",
            "_view_count": null,
            "_view_module": "@jupyter-widgets/output",
            "_view_module_version": "1.0.0",
            "_view_name": "OutputView",
            "layout": "IPY_MODEL_e52e5b67e8044cd0835e8660a09bbf64",
            "msg_id": "",
            "outputs": [
              {
                "output_type": "display_data",
                "data": {
                  "text/plain": "<Figure size 640x480 with 0 Axes>"
                },
                "metadata": {}
              },
              {
                "output_type": "display_data",
                "data": {
                  "text/plain": "<Figure size 1000x600 with 1 Axes>",
                  "image/png": "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\n"
                },
                "metadata": {}
              }
            ]
          }
        },
        "151a1ef5ea0949b58b8e8817f4c01ab7": {
          "model_module": "@jupyter-widgets/base",
          "model_name": "LayoutModel",
          "model_module_version": "1.2.0",
          "state": {
            "_model_module": "@jupyter-widgets/base",
            "_model_module_version": "1.2.0",
            "_model_name": "LayoutModel",
            "_view_count": null,
            "_view_module": "@jupyter-widgets/base",
            "_view_module_version": "1.2.0",
            "_view_name": "LayoutView",
            "align_content": null,
            "align_items": null,
            "align_self": null,
            "border": null,
            "bottom": null,
            "display": null,
            "flex": null,
            "flex_flow": null,
            "grid_area": null,
            "grid_auto_columns": null,
            "grid_auto_flow": null,
            "grid_auto_rows": null,
            "grid_column": null,
            "grid_gap": null,
            "grid_row": null,
            "grid_template_areas": null,
            "grid_template_columns": null,
            "grid_template_rows": null,
            "height": null,
            "justify_content": null,
            "justify_items": null,
            "left": null,
            "margin": null,
            "max_height": null,
            "max_width": null,
            "min_height": null,
            "min_width": null,
            "object_fit": null,
            "object_position": null,
            "order": null,
            "overflow": null,
            "overflow_x": null,
            "overflow_y": null,
            "padding": null,
            "right": null,
            "top": null,
            "visibility": null,
            "width": null
          }
        },
        "6aa0d635846547faa6d33546f582e726": {
          "model_module": "@jupyter-widgets/base",
          "model_name": "LayoutModel",
          "model_module_version": "1.2.0",
          "state": {
            "_model_module": "@jupyter-widgets/base",
            "_model_module_version": "1.2.0",
            "_model_name": "LayoutModel",
            "_view_count": null,
            "_view_module": "@jupyter-widgets/base",
            "_view_module_version": "1.2.0",
            "_view_name": "LayoutView",
            "align_content": null,
            "align_items": null,
            "align_self": null,
            "border": null,
            "bottom": null,
            "display": null,
            "flex": null,
            "flex_flow": null,
            "grid_area": null,
            "grid_auto_columns": null,
            "grid_auto_flow": null,
            "grid_auto_rows": null,
            "grid_column": null,
            "grid_gap": null,
            "grid_row": null,
            "grid_template_areas": null,
            "grid_template_columns": null,
            "grid_template_rows": null,
            "height": null,
            "justify_content": null,
            "justify_items": null,
            "left": null,
            "margin": null,
            "max_height": null,
            "max_width": null,
            "min_height": null,
            "min_width": null,
            "object_fit": null,
            "object_position": null,
            "order": null,
            "overflow": null,
            "overflow_x": null,
            "overflow_y": null,
            "padding": null,
            "right": null,
            "top": null,
            "visibility": null,
            "width": null
          }
        },
        "6976403866f24e6f86c3c2274773996f": {
          "model_module": "@jupyter-widgets/controls",
          "model_name": "SliderStyleModel",
          "model_module_version": "1.5.0",
          "state": {
            "_model_module": "@jupyter-widgets/controls",
            "_model_module_version": "1.5.0",
            "_model_name": "SliderStyleModel",
            "_view_count": null,
            "_view_module": "@jupyter-widgets/base",
            "_view_module_version": "1.2.0",
            "_view_name": "StyleView",
            "description_width": "",
            "handle_color": null
          }
        },
        "e340ff2864b04a16918ab05c71aea404": {
          "model_module": "@jupyter-widgets/base",
          "model_name": "LayoutModel",
          "model_module_version": "1.2.0",
          "state": {
            "_model_module": "@jupyter-widgets/base",
            "_model_module_version": "1.2.0",
            "_model_name": "LayoutModel",
            "_view_count": null,
            "_view_module": "@jupyter-widgets/base",
            "_view_module_version": "1.2.0",
            "_view_name": "LayoutView",
            "align_content": null,
            "align_items": null,
            "align_self": null,
            "border": null,
            "bottom": null,
            "display": null,
            "flex": null,
            "flex_flow": null,
            "grid_area": null,
            "grid_auto_columns": null,
            "grid_auto_flow": null,
            "grid_auto_rows": null,
            "grid_column": null,
            "grid_gap": null,
            "grid_row": null,
            "grid_template_areas": null,
            "grid_template_columns": null,
            "grid_template_rows": null,
            "height": null,
            "justify_content": null,
            "justify_items": null,
            "left": null,
            "margin": null,
            "max_height": null,
            "max_width": null,
            "min_height": null,
            "min_width": null,
            "object_fit": null,
            "object_position": null,
            "order": null,
            "overflow": null,
            "overflow_x": null,
            "overflow_y": null,
            "padding": null,
            "right": null,
            "top": null,
            "visibility": null,
            "width": null
          }
        },
        "42ffb3fbf02049dc830a2974509b0f3d": {
          "model_module": "@jupyter-widgets/controls",
          "model_name": "SliderStyleModel",
          "model_module_version": "1.5.0",
          "state": {
            "_model_module": "@jupyter-widgets/controls",
            "_model_module_version": "1.5.0",
            "_model_name": "SliderStyleModel",
            "_view_count": null,
            "_view_module": "@jupyter-widgets/base",
            "_view_module_version": "1.2.0",
            "_view_name": "StyleView",
            "description_width": "",
            "handle_color": null
          }
        },
        "e52e5b67e8044cd0835e8660a09bbf64": {
          "model_module": "@jupyter-widgets/base",
          "model_name": "LayoutModel",
          "model_module_version": "1.2.0",
          "state": {
            "_model_module": "@jupyter-widgets/base",
            "_model_module_version": "1.2.0",
            "_model_name": "LayoutModel",
            "_view_count": null,
            "_view_module": "@jupyter-widgets/base",
            "_view_module_version": "1.2.0",
            "_view_name": "LayoutView",
            "align_content": null,
            "align_items": null,
            "align_self": null,
            "border": null,
            "bottom": null,
            "display": null,
            "flex": null,
            "flex_flow": null,
            "grid_area": null,
            "grid_auto_columns": null,
            "grid_auto_flow": null,
            "grid_auto_rows": null,
            "grid_column": null,
            "grid_gap": null,
            "grid_row": null,
            "grid_template_areas": null,
            "grid_template_columns": null,
            "grid_template_rows": null,
            "height": null,
            "justify_content": null,
            "justify_items": null,
            "left": null,
            "margin": null,
            "max_height": null,
            "max_width": null,
            "min_height": null,
            "min_width": null,
            "object_fit": null,
            "object_position": null,
            "order": null,
            "overflow": null,
            "overflow_x": null,
            "overflow_y": null,
            "padding": null,
            "right": null,
            "top": null,
            "visibility": null,
            "width": null
          }
        }
      }
    }
  },
  "nbformat": 4,
  "nbformat_minor": 5
}